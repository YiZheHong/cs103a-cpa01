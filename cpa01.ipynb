{
 "cells": [
  {
   "cell_type": "markdown",
   "id": "ad3d4dea",
   "metadata": {},
   "source": [
    "# Dataset Description \n",
    "I got this data from https://covidtracking.com/data/state/massachusetts. This csv file records weekly the number of new tests, number of case, number of hospitalization, and new death .etc. I am interested in these two aspects:\n",
    "1. Whether positive rate goes up after the New Year in 2021 in MA.\n",
    "2. Whether the gathering from May to July in 2020 affects positive rate in US. \n"
   ]
  },
  {
   "cell_type": "code",
   "execution_count": 1,
   "id": "21960138",
   "metadata": {},
   "outputs": [],
   "source": [
    "import pandas as pd\n",
    "import matplotlib.pyplot as plt\n",
    "import numpy as np"
   ]
  },
  {
   "cell_type": "code",
   "execution_count": 2,
   "id": "d58e79d5",
   "metadata": {},
   "outputs": [],
   "source": [
    "#load csv\n",
    "format='%Y-%m-%d'\n",
    "df = pd.read_csv('all-states-history.csv')\n",
    "df['date'] = pd.to_datetime(df['date'], format=format)"
   ]
  },
  {
   "cell_type": "code",
   "execution_count": 3,
   "id": "7852309b",
   "metadata": {},
   "outputs": [
    {
     "name": "stdout",
     "output_type": "stream",
     "text": [
      "0       2021-03-07\n",
      "1       2021-03-07\n",
      "2       2021-03-07\n",
      "3       2021-03-07\n",
      "4       2021-03-07\n",
      "           ...    \n",
      "20775   2020-01-17\n",
      "20776   2020-01-16\n",
      "20777   2020-01-15\n",
      "20778   2020-01-14\n",
      "20779   2020-01-13\n",
      "Name: date, Length: 20780, dtype: datetime64[ns]\n"
     ]
    }
   ],
   "source": [
    "print(df['date'])"
   ]
  },
  {
   "cell_type": "markdown",
   "id": "9afce5a4",
   "metadata": {},
   "source": [
    "This dataset stores the data related to COVID from 2020/1/13 till the present."
   ]
  },
  {
   "cell_type": "code",
   "execution_count": 4,
   "id": "567f0cb6",
   "metadata": {},
   "outputs": [
    {
     "data": {
      "text/html": [
       "<div>\n",
       "<style scoped>\n",
       "    .dataframe tbody tr th:only-of-type {\n",
       "        vertical-align: middle;\n",
       "    }\n",
       "\n",
       "    .dataframe tbody tr th {\n",
       "        vertical-align: top;\n",
       "    }\n",
       "\n",
       "    .dataframe thead th {\n",
       "        text-align: right;\n",
       "    }\n",
       "</style>\n",
       "<table border=\"1\" class=\"dataframe\">\n",
       "  <thead>\n",
       "    <tr style=\"text-align: right;\">\n",
       "      <th></th>\n",
       "      <th>death</th>\n",
       "      <th>deathConfirmed</th>\n",
       "      <th>deathIncrease</th>\n",
       "      <th>deathProbable</th>\n",
       "      <th>hospitalized</th>\n",
       "      <th>hospitalizedCumulative</th>\n",
       "      <th>hospitalizedCurrently</th>\n",
       "      <th>hospitalizedIncrease</th>\n",
       "      <th>inIcuCumulative</th>\n",
       "      <th>inIcuCurrently</th>\n",
       "      <th>...</th>\n",
       "      <th>totalTestResults</th>\n",
       "      <th>totalTestResultsIncrease</th>\n",
       "      <th>totalTestsAntibody</th>\n",
       "      <th>totalTestsAntigen</th>\n",
       "      <th>totalTestsPeopleAntibody</th>\n",
       "      <th>totalTestsPeopleAntigen</th>\n",
       "      <th>totalTestsPeopleViral</th>\n",
       "      <th>totalTestsPeopleViralIncrease</th>\n",
       "      <th>totalTestsViral</th>\n",
       "      <th>totalTestsViralIncrease</th>\n",
       "    </tr>\n",
       "  </thead>\n",
       "  <tbody>\n",
       "    <tr>\n",
       "      <th>count</th>\n",
       "      <td>19930.000000</td>\n",
       "      <td>9422.000000</td>\n",
       "      <td>20780.000000</td>\n",
       "      <td>7593.000000</td>\n",
       "      <td>12382.000000</td>\n",
       "      <td>12382.000000</td>\n",
       "      <td>17339.000000</td>\n",
       "      <td>20780.000000</td>\n",
       "      <td>3789.000000</td>\n",
       "      <td>11636.000000</td>\n",
       "      <td>...</td>\n",
       "      <td>2.061400e+04</td>\n",
       "      <td>20780.000000</td>\n",
       "      <td>4.789000e+03</td>\n",
       "      <td>3.421000e+03</td>\n",
       "      <td>2200.000000</td>\n",
       "      <td>999.000000</td>\n",
       "      <td>9.197000e+03</td>\n",
       "      <td>2.078000e+04</td>\n",
       "      <td>1.451600e+04</td>\n",
       "      <td>2.078000e+04</td>\n",
       "    </tr>\n",
       "    <tr>\n",
       "      <th>mean</th>\n",
       "      <td>3682.216859</td>\n",
       "      <td>3770.182764</td>\n",
       "      <td>24.790712</td>\n",
       "      <td>417.291321</td>\n",
       "      <td>9262.762478</td>\n",
       "      <td>9262.762478</td>\n",
       "      <td>1190.576965</td>\n",
       "      <td>37.360780</td>\n",
       "      <td>1934.191607</td>\n",
       "      <td>359.621176</td>\n",
       "      <td>...</td>\n",
       "      <td>2.186936e+06</td>\n",
       "      <td>17508.388210</td>\n",
       "      <td>1.634028e+05</td>\n",
       "      <td>3.089196e+05</td>\n",
       "      <td>165431.783182</td>\n",
       "      <td>168188.246246</td>\n",
       "      <td>9.650105e+05</td>\n",
       "      <td>2.739554e+03</td>\n",
       "      <td>2.304555e+06</td>\n",
       "      <td>1.296143e+04</td>\n",
       "    </tr>\n",
       "    <tr>\n",
       "      <th>std</th>\n",
       "      <td>6281.366321</td>\n",
       "      <td>4157.640633</td>\n",
       "      <td>60.162742</td>\n",
       "      <td>537.625982</td>\n",
       "      <td>12620.544081</td>\n",
       "      <td>12620.544081</td>\n",
       "      <td>2060.041207</td>\n",
       "      <td>208.237151</td>\n",
       "      <td>1953.329983</td>\n",
       "      <td>594.831150</td>\n",
       "      <td>...</td>\n",
       "      <td>4.436508e+06</td>\n",
       "      <td>33586.022461</td>\n",
       "      <td>2.016978e+05</td>\n",
       "      <td>4.232854e+05</td>\n",
       "      <td>178181.836898</td>\n",
       "      <td>143748.073365</td>\n",
       "      <td>1.415215e+06</td>\n",
       "      <td>1.621900e+04</td>\n",
       "      <td>4.445365e+06</td>\n",
       "      <td>3.749509e+04</td>\n",
       "    </tr>\n",
       "    <tr>\n",
       "      <th>min</th>\n",
       "      <td>0.000000</td>\n",
       "      <td>0.000000</td>\n",
       "      <td>-201.000000</td>\n",
       "      <td>0.000000</td>\n",
       "      <td>1.000000</td>\n",
       "      <td>1.000000</td>\n",
       "      <td>0.000000</td>\n",
       "      <td>-12257.000000</td>\n",
       "      <td>6.000000</td>\n",
       "      <td>0.000000</td>\n",
       "      <td>...</td>\n",
       "      <td>0.000000e+00</td>\n",
       "      <td>-130545.000000</td>\n",
       "      <td>0.000000e+00</td>\n",
       "      <td>1.000000e+00</td>\n",
       "      <td>1.000000</td>\n",
       "      <td>3.000000</td>\n",
       "      <td>0.000000e+00</td>\n",
       "      <td>-1.043744e+06</td>\n",
       "      <td>0.000000e+00</td>\n",
       "      <td>-1.154583e+06</td>\n",
       "    </tr>\n",
       "    <tr>\n",
       "      <th>25%</th>\n",
       "      <td>161.250000</td>\n",
       "      <td>607.000000</td>\n",
       "      <td>0.000000</td>\n",
       "      <td>79.000000</td>\n",
       "      <td>985.250000</td>\n",
       "      <td>985.250000</td>\n",
       "      <td>166.500000</td>\n",
       "      <td>0.000000</td>\n",
       "      <td>501.000000</td>\n",
       "      <td>60.000000</td>\n",
       "      <td>...</td>\n",
       "      <td>1.040498e+05</td>\n",
       "      <td>1205.750000</td>\n",
       "      <td>1.896500e+04</td>\n",
       "      <td>2.004700e+04</td>\n",
       "      <td>54912.750000</td>\n",
       "      <td>37675.500000</td>\n",
       "      <td>1.414700e+05</td>\n",
       "      <td>0.000000e+00</td>\n",
       "      <td>1.324600e+05</td>\n",
       "      <td>0.000000e+00</td>\n",
       "    </tr>\n",
       "    <tr>\n",
       "      <th>50%</th>\n",
       "      <td>1108.000000</td>\n",
       "      <td>2409.500000</td>\n",
       "      <td>6.000000</td>\n",
       "      <td>216.000000</td>\n",
       "      <td>4472.000000</td>\n",
       "      <td>4472.000000</td>\n",
       "      <td>531.000000</td>\n",
       "      <td>0.000000</td>\n",
       "      <td>1295.000000</td>\n",
       "      <td>172.000000</td>\n",
       "      <td>...</td>\n",
       "      <td>6.552670e+05</td>\n",
       "      <td>6125.000000</td>\n",
       "      <td>8.465200e+04</td>\n",
       "      <td>1.233840e+05</td>\n",
       "      <td>103967.500000</td>\n",
       "      <td>144130.000000</td>\n",
       "      <td>4.193720e+05</td>\n",
       "      <td>0.000000e+00</td>\n",
       "      <td>7.316510e+05</td>\n",
       "      <td>1.896500e+03</td>\n",
       "    </tr>\n",
       "    <tr>\n",
       "      <th>75%</th>\n",
       "      <td>4387.500000</td>\n",
       "      <td>5462.000000</td>\n",
       "      <td>24.000000</td>\n",
       "      <td>460.000000</td>\n",
       "      <td>12248.500000</td>\n",
       "      <td>12248.500000</td>\n",
       "      <td>1279.000000</td>\n",
       "      <td>36.000000</td>\n",
       "      <td>2451.000000</td>\n",
       "      <td>380.000000</td>\n",
       "      <td>...</td>\n",
       "      <td>2.264766e+06</td>\n",
       "      <td>19086.500000</td>\n",
       "      <td>2.300110e+05</td>\n",
       "      <td>4.327270e+05</td>\n",
       "      <td>183103.000000</td>\n",
       "      <td>255251.000000</td>\n",
       "      <td>1.229298e+06</td>\n",
       "      <td>2.478000e+03</td>\n",
       "      <td>2.496925e+06</td>\n",
       "      <td>1.244100e+04</td>\n",
       "    </tr>\n",
       "    <tr>\n",
       "      <th>max</th>\n",
       "      <td>54124.000000</td>\n",
       "      <td>21177.000000</td>\n",
       "      <td>2559.000000</td>\n",
       "      <td>2594.000000</td>\n",
       "      <td>82237.000000</td>\n",
       "      <td>82237.000000</td>\n",
       "      <td>22851.000000</td>\n",
       "      <td>16373.000000</td>\n",
       "      <td>9263.000000</td>\n",
       "      <td>5225.000000</td>\n",
       "      <td>...</td>\n",
       "      <td>4.964601e+07</td>\n",
       "      <td>473076.000000</td>\n",
       "      <td>1.054711e+06</td>\n",
       "      <td>2.664340e+06</td>\n",
       "      <td>995580.000000</td>\n",
       "      <td>580372.000000</td>\n",
       "      <td>1.124825e+07</td>\n",
       "      <td>8.208170e+05</td>\n",
       "      <td>4.964601e+07</td>\n",
       "      <td>2.164543e+06</td>\n",
       "    </tr>\n",
       "  </tbody>\n",
       "</table>\n",
       "<p>8 rows × 39 columns</p>\n",
       "</div>"
      ],
      "text/plain": [
       "              death  deathConfirmed  deathIncrease  deathProbable  \\\n",
       "count  19930.000000     9422.000000   20780.000000    7593.000000   \n",
       "mean    3682.216859     3770.182764      24.790712     417.291321   \n",
       "std     6281.366321     4157.640633      60.162742     537.625982   \n",
       "min        0.000000        0.000000    -201.000000       0.000000   \n",
       "25%      161.250000      607.000000       0.000000      79.000000   \n",
       "50%     1108.000000     2409.500000       6.000000     216.000000   \n",
       "75%     4387.500000     5462.000000      24.000000     460.000000   \n",
       "max    54124.000000    21177.000000    2559.000000    2594.000000   \n",
       "\n",
       "       hospitalized  hospitalizedCumulative  hospitalizedCurrently  \\\n",
       "count  12382.000000            12382.000000           17339.000000   \n",
       "mean    9262.762478             9262.762478            1190.576965   \n",
       "std    12620.544081            12620.544081            2060.041207   \n",
       "min        1.000000                1.000000               0.000000   \n",
       "25%      985.250000              985.250000             166.500000   \n",
       "50%     4472.000000             4472.000000             531.000000   \n",
       "75%    12248.500000            12248.500000            1279.000000   \n",
       "max    82237.000000            82237.000000           22851.000000   \n",
       "\n",
       "       hospitalizedIncrease  inIcuCumulative  inIcuCurrently  ...  \\\n",
       "count          20780.000000      3789.000000    11636.000000  ...   \n",
       "mean              37.360780      1934.191607      359.621176  ...   \n",
       "std              208.237151      1953.329983      594.831150  ...   \n",
       "min           -12257.000000         6.000000        0.000000  ...   \n",
       "25%                0.000000       501.000000       60.000000  ...   \n",
       "50%                0.000000      1295.000000      172.000000  ...   \n",
       "75%               36.000000      2451.000000      380.000000  ...   \n",
       "max            16373.000000      9263.000000     5225.000000  ...   \n",
       "\n",
       "       totalTestResults  totalTestResultsIncrease  totalTestsAntibody  \\\n",
       "count      2.061400e+04              20780.000000        4.789000e+03   \n",
       "mean       2.186936e+06              17508.388210        1.634028e+05   \n",
       "std        4.436508e+06              33586.022461        2.016978e+05   \n",
       "min        0.000000e+00            -130545.000000        0.000000e+00   \n",
       "25%        1.040498e+05               1205.750000        1.896500e+04   \n",
       "50%        6.552670e+05               6125.000000        8.465200e+04   \n",
       "75%        2.264766e+06              19086.500000        2.300110e+05   \n",
       "max        4.964601e+07             473076.000000        1.054711e+06   \n",
       "\n",
       "       totalTestsAntigen  totalTestsPeopleAntibody  totalTestsPeopleAntigen  \\\n",
       "count       3.421000e+03               2200.000000               999.000000   \n",
       "mean        3.089196e+05             165431.783182            168188.246246   \n",
       "std         4.232854e+05             178181.836898            143748.073365   \n",
       "min         1.000000e+00                  1.000000                 3.000000   \n",
       "25%         2.004700e+04              54912.750000             37675.500000   \n",
       "50%         1.233840e+05             103967.500000            144130.000000   \n",
       "75%         4.327270e+05             183103.000000            255251.000000   \n",
       "max         2.664340e+06             995580.000000            580372.000000   \n",
       "\n",
       "       totalTestsPeopleViral  totalTestsPeopleViralIncrease  totalTestsViral  \\\n",
       "count           9.197000e+03                   2.078000e+04     1.451600e+04   \n",
       "mean            9.650105e+05                   2.739554e+03     2.304555e+06   \n",
       "std             1.415215e+06                   1.621900e+04     4.445365e+06   \n",
       "min             0.000000e+00                  -1.043744e+06     0.000000e+00   \n",
       "25%             1.414700e+05                   0.000000e+00     1.324600e+05   \n",
       "50%             4.193720e+05                   0.000000e+00     7.316510e+05   \n",
       "75%             1.229298e+06                   2.478000e+03     2.496925e+06   \n",
       "max             1.124825e+07                   8.208170e+05     4.964601e+07   \n",
       "\n",
       "       totalTestsViralIncrease  \n",
       "count             2.078000e+04  \n",
       "mean              1.296143e+04  \n",
       "std               3.749509e+04  \n",
       "min              -1.154583e+06  \n",
       "25%               0.000000e+00  \n",
       "50%               1.896500e+03  \n",
       "75%               1.244100e+04  \n",
       "max               2.164543e+06  \n",
       "\n",
       "[8 rows x 39 columns]"
      ]
     },
     "execution_count": 4,
     "metadata": {},
     "output_type": "execute_result"
    }
   ],
   "source": [
    "df.describe()"
   ]
  },
  {
   "cell_type": "code",
   "execution_count": 14,
   "id": "b6b2e5ee",
   "metadata": {},
   "outputs": [
    {
     "data": {
      "text/plain": [
       "RangeIndex(start=0, stop=20780, step=1)"
      ]
     },
     "execution_count": 14,
     "metadata": {},
     "output_type": "execute_result"
    }
   ],
   "source": [
    "df.index"
   ]
  },
  {
   "cell_type": "markdown",
   "id": "ba476b94",
   "metadata": {},
   "source": [
    "From the dataset overview, we can see the damage caused by COVID to MA community. Around 24 people die due to COVID every day. "
   ]
  },
  {
   "cell_type": "code",
   "execution_count": 5,
   "id": "6f32e0d8",
   "metadata": {},
   "outputs": [
    {
     "data": {
      "text/plain": [
       "Index(['date', 'state', 'death', 'deathConfirmed', 'deathIncrease',\n",
       "       'deathProbable', 'hospitalized', 'hospitalizedCumulative',\n",
       "       'hospitalizedCurrently', 'hospitalizedIncrease', 'inIcuCumulative',\n",
       "       'inIcuCurrently', 'negative', 'negativeIncrease',\n",
       "       'negativeTestsAntibody', 'negativeTestsPeopleAntibody',\n",
       "       'negativeTestsViral', 'onVentilatorCumulative', 'onVentilatorCurrently',\n",
       "       'positive', 'positiveCasesViral', 'positiveIncrease', 'positiveScore',\n",
       "       'positiveTestsAntibody', 'positiveTestsAntigen',\n",
       "       'positiveTestsPeopleAntibody', 'positiveTestsPeopleAntigen',\n",
       "       'positiveTestsViral', 'recovered', 'totalTestEncountersViral',\n",
       "       'totalTestEncountersViralIncrease', 'totalTestResults',\n",
       "       'totalTestResultsIncrease', 'totalTestsAntibody', 'totalTestsAntigen',\n",
       "       'totalTestsPeopleAntibody', 'totalTestsPeopleAntigen',\n",
       "       'totalTestsPeopleViral', 'totalTestsPeopleViralIncrease',\n",
       "       'totalTestsViral', 'totalTestsViralIncrease'],\n",
       "      dtype='object')"
      ]
     },
     "execution_count": 5,
     "metadata": {},
     "output_type": "execute_result"
    }
   ],
   "source": [
    "df.columns"
   ]
  },
  {
   "cell_type": "markdown",
   "id": "a8776cc4",
   "metadata": {},
   "source": [
    "We can see there is a lot of columns are not shown in df.describe(). Since I want to find out whether Booster lower the positive rate and  the war going on affects the test rate, \n",
    "\n",
    "I will focus more on \"Date\",\"Positive\", \"positiveIncrease\", \"totalTestResults\", and \"totalTestResultsIncrease\""
   ]
  },
  {
   "cell_type": "code",
   "execution_count": 6,
   "id": "d368fa77",
   "metadata": {},
   "outputs": [
    {
     "data": {
      "text/html": [
       "<div>\n",
       "<style scoped>\n",
       "    .dataframe tbody tr th:only-of-type {\n",
       "        vertical-align: middle;\n",
       "    }\n",
       "\n",
       "    .dataframe tbody tr th {\n",
       "        vertical-align: top;\n",
       "    }\n",
       "\n",
       "    .dataframe thead th {\n",
       "        text-align: right;\n",
       "    }\n",
       "</style>\n",
       "<table border=\"1\" class=\"dataframe\">\n",
       "  <thead>\n",
       "    <tr style=\"text-align: right;\">\n",
       "      <th></th>\n",
       "      <th>percent_missing</th>\n",
       "    </tr>\n",
       "  </thead>\n",
       "  <tbody>\n",
       "    <tr>\n",
       "      <th>date</th>\n",
       "      <td>0.000000</td>\n",
       "    </tr>\n",
       "    <tr>\n",
       "      <th>positive</th>\n",
       "      <td>0.904716</td>\n",
       "    </tr>\n",
       "    <tr>\n",
       "      <th>positiveIncrease</th>\n",
       "      <td>0.000000</td>\n",
       "    </tr>\n",
       "  </tbody>\n",
       "</table>\n",
       "</div>"
      ],
      "text/plain": [
       "                  percent_missing\n",
       "date                     0.000000\n",
       "positive                 0.904716\n",
       "positiveIncrease         0.000000"
      ]
     },
     "execution_count": 6,
     "metadata": {},
     "output_type": "execute_result"
    }
   ],
   "source": [
    "percent_missing = df.isnull().sum() * 100 / len(df)\n",
    "missing_value_df = pd.DataFrame({'percent_missing': percent_missing})\n",
    "missing_value_df.iloc[[0,19,21],]"
   ]
  },
  {
   "cell_type": "markdown",
   "id": "48613532",
   "metadata": {},
   "source": [
    "From this chart, we can see more than 90% percent of data is missing in positive but none is missed in positiveIncrease. Let's utilize this."
   ]
  },
  {
   "cell_type": "code",
   "execution_count": 7,
   "id": "5c1afa15",
   "metadata": {},
   "outputs": [
    {
     "name": "stdout",
     "output_type": "stream",
     "text": [
      "            date state  positive  positiveIncrease\n",
      "20451 2020-03-06    AK       NaN                 0\n",
      "20400 2020-03-07    AK       NaN                 0\n",
      "20349 2020-03-08    AK       NaN                 0\n",
      "20298 2020-03-09    AK       NaN                 0\n",
      "20247 2020-03-10    AK       NaN                 0\n",
      "20196 2020-03-11    AK       NaN                 0\n",
      "20145 2020-03-12    AK       NaN                 0\n",
      "20094 2020-03-13    AK       NaN                 0\n",
      "20043 2020-03-14    AK       NaN                 0\n",
      "19992 2020-03-15    AK       NaN                 0\n",
      "19936 2020-03-16    AK       NaN                 0\n",
      "19880 2020-03-17    AK       3.0                 3\n",
      "19824 2020-03-18    AK       8.0                 5\n",
      "19768 2020-03-19    AK      11.0                 3\n",
      "19712 2020-03-20    AK      14.0                 3\n",
      "19656 2020-03-21    AK      15.0                 1\n",
      "19600 2020-03-22    AK      25.0                10\n",
      "19544 2020-03-23    AK      38.0                13\n",
      "19488 2020-03-24    AK      42.0                 4\n",
      "19432 2020-03-25    AK      49.0                 7\n"
     ]
    }
   ],
   "source": [
    "#make a data frame, ignore irelevent features \n",
    "new_df = df[['date','state','positive','positiveIncrease']]\n",
    "sort_by_state = new_df.sort_values('state')\n",
    "print(sort_by_state[sort_by_state['state'] == 'AK'].sort_values('date',ascending=True).head(20))\n",
    "#we can see for AK, data is missing for dates before 2020/3/16"
   ]
  },
  {
   "cell_type": "markdown",
   "id": "21fa649a",
   "metadata": {},
   "source": [
    "Since COVID data collection for most states started in mid of March, to avoid NaN data, I will only focus on data collected after 2020/4."
   ]
  },
  {
   "cell_type": "code",
   "execution_count": 8,
   "id": "5c3382a4",
   "metadata": {},
   "outputs": [
    {
     "data": {
      "text/plain": [
       "1684"
      ]
     },
     "execution_count": 8,
     "metadata": {},
     "output_type": "execute_result"
    }
   ],
   "source": [
    "new_df = df[['date','state','positive','positiveIncrease']]\n",
    "sort_by_date = new_df.sort_values('date')\n",
    "sort_by_date.reset_index(drop=True, inplace=True)\n",
    "sort_by_date[sort_by_date['date'] == '2020-04-01'].index.values[0]\n",
    "# 2020 April data started in 1684 (index_value)"
   ]
  },
  {
   "cell_type": "code",
   "execution_count": 9,
   "id": "0f55f892",
   "metadata": {},
   "outputs": [
    {
     "data": {
      "text/html": [
       "<div>\n",
       "<style scoped>\n",
       "    .dataframe tbody tr th:only-of-type {\n",
       "        vertical-align: middle;\n",
       "    }\n",
       "\n",
       "    .dataframe tbody tr th {\n",
       "        vertical-align: top;\n",
       "    }\n",
       "\n",
       "    .dataframe thead th {\n",
       "        text-align: right;\n",
       "    }\n",
       "</style>\n",
       "<table border=\"1\" class=\"dataframe\">\n",
       "  <thead>\n",
       "    <tr style=\"text-align: right;\">\n",
       "      <th></th>\n",
       "      <th>percent_missing</th>\n",
       "    </tr>\n",
       "  </thead>\n",
       "  <tbody>\n",
       "    <tr>\n",
       "      <th>date</th>\n",
       "      <td>0.0</td>\n",
       "    </tr>\n",
       "    <tr>\n",
       "      <th>state</th>\n",
       "      <td>0.0</td>\n",
       "    </tr>\n",
       "    <tr>\n",
       "      <th>positive</th>\n",
       "      <td>0.0</td>\n",
       "    </tr>\n",
       "    <tr>\n",
       "      <th>positiveIncrease</th>\n",
       "      <td>0.0</td>\n",
       "    </tr>\n",
       "  </tbody>\n",
       "</table>\n",
       "</div>"
      ],
      "text/plain": [
       "                  percent_missing\n",
       "date                          0.0\n",
       "state                         0.0\n",
       "positive                      0.0\n",
       "positiveIncrease              0.0"
      ]
     },
     "execution_count": 9,
     "metadata": {},
     "output_type": "execute_result"
    }
   ],
   "source": [
    "drop_date = sort_by_date.iloc[1684:,:].sort_values('state').reset_index(drop=True)\n",
    "percent_missing = drop_date.isnull().sum() * 100 / len(df)\n",
    "missing_value_drop_date = pd.DataFrame({'percent_missing': percent_missing})\n",
    "missing_value_drop_date\n",
    "\n",
    "#NaN value is gone!"
   ]
  },
  {
   "cell_type": "code",
   "execution_count": 10,
   "id": "3757b41d",
   "metadata": {},
   "outputs": [
    {
     "data": {
      "text/html": [
       "<div>\n",
       "<style scoped>\n",
       "    .dataframe tbody tr th:only-of-type {\n",
       "        vertical-align: middle;\n",
       "    }\n",
       "\n",
       "    .dataframe tbody tr th {\n",
       "        vertical-align: top;\n",
       "    }\n",
       "\n",
       "    .dataframe thead th {\n",
       "        text-align: right;\n",
       "    }\n",
       "</style>\n",
       "<table border=\"1\" class=\"dataframe\">\n",
       "  <thead>\n",
       "    <tr style=\"text-align: right;\">\n",
       "      <th></th>\n",
       "      <th>date</th>\n",
       "      <th>positive</th>\n",
       "      <th>positiveIncrease</th>\n",
       "    </tr>\n",
       "    <tr>\n",
       "      <th>state</th>\n",
       "      <th></th>\n",
       "      <th></th>\n",
       "      <th></th>\n",
       "    </tr>\n",
       "  </thead>\n",
       "  <tbody>\n",
       "    <tr>\n",
       "      <th>AK</th>\n",
       "      <td>2020-09-18</td>\n",
       "      <td>6658.0</td>\n",
       "      <td>107</td>\n",
       "    </tr>\n",
       "    <tr>\n",
       "      <th>AL</th>\n",
       "      <td>2021-01-19</td>\n",
       "      <td>426543.0</td>\n",
       "      <td>2515</td>\n",
       "    </tr>\n",
       "    <tr>\n",
       "      <th>AR</th>\n",
       "      <td>2021-02-18</td>\n",
       "      <td>314445.0</td>\n",
       "      <td>253</td>\n",
       "    </tr>\n",
       "    <tr>\n",
       "      <th>AS</th>\n",
       "      <td>2020-06-24</td>\n",
       "      <td>0.0</td>\n",
       "      <td>0</td>\n",
       "    </tr>\n",
       "    <tr>\n",
       "      <th>AZ</th>\n",
       "      <td>2020-10-13</td>\n",
       "      <td>226734.0</td>\n",
       "      <td>684</td>\n",
       "    </tr>\n",
       "  </tbody>\n",
       "</table>\n",
       "</div>"
      ],
      "text/plain": [
       "            date  positive  positiveIncrease\n",
       "state                                       \n",
       "AK    2020-09-18    6658.0               107\n",
       "AL    2021-01-19  426543.0              2515\n",
       "AR    2021-02-18  314445.0               253\n",
       "AS    2020-06-24       0.0                 0\n",
       "AZ    2020-10-13  226734.0               684"
      ]
     },
     "execution_count": 10,
     "metadata": {},
     "output_type": "execute_result"
    }
   ],
   "source": [
    "new_df = drop_date.groupby('state')\n",
    "new_df.first().head()"
   ]
  },
  {
   "cell_type": "code",
   "execution_count": 11,
   "id": "164fe913",
   "metadata": {},
   "outputs": [
    {
     "data": {
      "text/html": [
       "<div>\n",
       "<style scoped>\n",
       "    .dataframe tbody tr th:only-of-type {\n",
       "        vertical-align: middle;\n",
       "    }\n",
       "\n",
       "    .dataframe tbody tr th {\n",
       "        vertical-align: top;\n",
       "    }\n",
       "\n",
       "    .dataframe thead th {\n",
       "        text-align: right;\n",
       "    }\n",
       "</style>\n",
       "<table border=\"1\" class=\"dataframe\">\n",
       "  <thead>\n",
       "    <tr style=\"text-align: right;\">\n",
       "      <th></th>\n",
       "      <th>date</th>\n",
       "      <th>state</th>\n",
       "      <th>positive</th>\n",
       "      <th>positiveIncrease</th>\n",
       "    </tr>\n",
       "  </thead>\n",
       "  <tbody>\n",
       "    <tr>\n",
       "      <th>0</th>\n",
       "      <td>2020-04-01</td>\n",
       "      <td>MA</td>\n",
       "      <td>7738.0</td>\n",
       "      <td>1118</td>\n",
       "    </tr>\n",
       "    <tr>\n",
       "      <th>1</th>\n",
       "      <td>2020-04-02</td>\n",
       "      <td>MA</td>\n",
       "      <td>8966.0</td>\n",
       "      <td>1228</td>\n",
       "    </tr>\n",
       "    <tr>\n",
       "      <th>2</th>\n",
       "      <td>2020-04-03</td>\n",
       "      <td>MA</td>\n",
       "      <td>10402.0</td>\n",
       "      <td>1436</td>\n",
       "    </tr>\n",
       "    <tr>\n",
       "      <th>3</th>\n",
       "      <td>2020-04-04</td>\n",
       "      <td>MA</td>\n",
       "      <td>11736.0</td>\n",
       "      <td>1334</td>\n",
       "    </tr>\n",
       "    <tr>\n",
       "      <th>4</th>\n",
       "      <td>2020-04-05</td>\n",
       "      <td>MA</td>\n",
       "      <td>12500.0</td>\n",
       "      <td>764</td>\n",
       "    </tr>\n",
       "    <tr>\n",
       "      <th>...</th>\n",
       "      <td>...</td>\n",
       "      <td>...</td>\n",
       "      <td>...</td>\n",
       "      <td>...</td>\n",
       "    </tr>\n",
       "    <tr>\n",
       "      <th>336</th>\n",
       "      <td>2021-03-03</td>\n",
       "      <td>MA</td>\n",
       "      <td>584743.0</td>\n",
       "      <td>1899</td>\n",
       "    </tr>\n",
       "    <tr>\n",
       "      <th>337</th>\n",
       "      <td>2021-03-04</td>\n",
       "      <td>MA</td>\n",
       "      <td>586310.0</td>\n",
       "      <td>1567</td>\n",
       "    </tr>\n",
       "    <tr>\n",
       "      <th>338</th>\n",
       "      <td>2021-03-05</td>\n",
       "      <td>MA</td>\n",
       "      <td>588209.0</td>\n",
       "      <td>1899</td>\n",
       "    </tr>\n",
       "    <tr>\n",
       "      <th>339</th>\n",
       "      <td>2021-03-06</td>\n",
       "      <td>MA</td>\n",
       "      <td>589931.0</td>\n",
       "      <td>1722</td>\n",
       "    </tr>\n",
       "    <tr>\n",
       "      <th>340</th>\n",
       "      <td>2021-03-07</td>\n",
       "      <td>MA</td>\n",
       "      <td>591356.0</td>\n",
       "      <td>1425</td>\n",
       "    </tr>\n",
       "  </tbody>\n",
       "</table>\n",
       "<p>341 rows × 4 columns</p>\n",
       "</div>"
      ],
      "text/plain": [
       "          date state  positive  positiveIncrease\n",
       "0   2020-04-01    MA    7738.0              1118\n",
       "1   2020-04-02    MA    8966.0              1228\n",
       "2   2020-04-03    MA   10402.0              1436\n",
       "3   2020-04-04    MA   11736.0              1334\n",
       "4   2020-04-05    MA   12500.0               764\n",
       "..         ...   ...       ...               ...\n",
       "336 2021-03-03    MA  584743.0              1899\n",
       "337 2021-03-04    MA  586310.0              1567\n",
       "338 2021-03-05    MA  588209.0              1899\n",
       "339 2021-03-06    MA  589931.0              1722\n",
       "340 2021-03-07    MA  591356.0              1425\n",
       "\n",
       "[341 rows x 4 columns]"
      ]
     },
     "execution_count": 11,
     "metadata": {},
     "output_type": "execute_result"
    }
   ],
   "source": [
    "#Let's try MA first\n",
    "MA_df = new_df.get_group('MA').sort_values('date').reset_index(drop=True)\n",
    "MA_df"
   ]
  },
  {
   "cell_type": "markdown",
   "id": "9e7a0e99",
   "metadata": {},
   "source": [
    "# Whether New Year events increase the positive rate in 2021 in MA\n",
    "From the graph below, I would like to say Christmas and New Year event both increase the positive rate. After these events, positive rate drop significantly"
   ]
  },
  {
   "cell_type": "code",
   "execution_count": 12,
   "id": "004888f5",
   "metadata": {},
   "outputs": [
    {
     "data": {
      "text/plain": [
       "<AxesSubplot:xlabel='date'>"
      ]
     },
     "execution_count": 12,
     "metadata": {},
     "output_type": "execute_result"
    },
    {
     "data": {
      "image/png": "[encoded data removed]",
      "text/plain": [
       "<Figure size 432x288 with 1 Axes>"
      ]
     },
     "metadata": {
      "needs_background": "light"
     },
     "output_type": "display_data"
    }
   ],
   "source": [
    "s = MA_df.resample('MS', on='date')['positiveIncrease'].sum().to_frame()\n",
    "s.plot()"
   ]
  },
  {
   "cell_type": "markdown",
   "id": "20fe1fe6",
   "metadata": {},
   "source": [
    "# Whether the gathering in May to July in 2020 affects positive rate in US. \n",
    "According to the char, from May to July in 2020, there was no big increase. The gathering did not affect positive rate significantly. "
   ]
  },
  {
   "cell_type": "code",
   "execution_count": 17,
   "id": "470a383b",
   "metadata": {},
   "outputs": [
    {
     "data": {
      "text/plain": [
       "<AxesSubplot:title={'center':'Positive Increase in U.S in 2020-2021'}, xlabel='Month', ylabel='Positive Increase'>"
      ]
     },
     "execution_count": 17,
     "metadata": {},
     "output_type": "execute_result"
    },
    {
     "data": {
      "image/png": "[encoded data removed]",
      "text/plain": [
       "<Figure size 720x720 with 1 Axes>"
      ]
     },
     "metadata": {
      "needs_background": "light"
     },
     "output_type": "display_data"
    }
   ],
   "source": [
    "# table_df = df.resample('MS', on='date')['positiveIncrease'].sum().to_frame()\n",
    "table = pd.pivot_table(df, values='positiveIncrease', index=['date'],\n",
    "                    columns=['state'], aggfunc=np.sum,fill_value=0)\n",
    "table.plot(figsize = (10,10),ylabel = 'Positive Increase',xlabel = 'Month',title = 'Positive Increase in U.S in 2020-2021')\n",
    "\n",
    "# plt.legend(loc=\"lower left\", ncol=len(df.columns),prop={'size': 10})\n",
    "\n"
   ]
  },
  {
   "cell_type": "code",
   "execution_count": null,
   "id": "3bcc647a",
   "metadata": {},
   "outputs": [],
   "source": []
  },
  {
   "cell_type": "code",
   "execution_count": null,
   "id": "581d8270",
   "metadata": {},
   "outputs": [],
   "source": []
  },
  {
   "cell_type": "code",
   "execution_count": null,
   "id": "053999d8",
   "metadata": {},
   "outputs": [],
   "source": []
  }
 ],
 "metadata": {
  "kernelspec": {
   "display_name": "Python 3 (ipykernel)",
   "language": "python",
   "name": "python3"
  },
  "language_info": {
   "codemirror_mode": {
    "name": "ipython",
    "version": 3
   },
   "file_extension": ".py",
   "mimetype": "text/x-python",
   "name": "python",
   "nbconvert_exporter": "python",
   "pygments_lexer": "ipython3",
   "version": "3.7.11"
  }
 },
 "nbformat": 4,
 "nbformat_minor": 5
}
